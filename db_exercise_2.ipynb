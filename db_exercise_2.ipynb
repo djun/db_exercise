{
 "cells": [
  {
   "cell_type": "markdown",
   "metadata": {},
   "source": [
    "#### 2020-8-11 数据库数据迁移, by DJun"
   ]
  },
  {
   "cell_type": "code",
   "execution_count": 1,
   "metadata": {},
   "outputs": [],
   "source": [
    "# 准备从sqlite数据库读出数据\n",
    "import sqlite3\n",
    "\n",
    "db_1 = sqlite3.connect(\"data.db\")\n",
    "cursor_1 = db_1.cursor()"
   ]
  },
  {
   "cell_type": "code",
   "execution_count": 2,
   "metadata": {},
   "outputs": [],
   "source": [
    "# 准备把数据写入到MariaDB数据库\n",
    "import pymysql\n",
    "\n",
    "db_2 = pymysql.connect(host='localhost', user=\"root\", password=\"********\", db=\"test\", charset='utf8mb4')\n",
    "cursor_2 = db_2.cursor()"
   ]
  },
  {
   "cell_type": "code",
   "execution_count": 3,
   "metadata": {},
   "outputs": [
    {
     "data": {
      "text/plain": [
       "0"
      ]
     },
     "execution_count": 3,
     "metadata": {},
     "output_type": "execute_result"
    }
   ],
   "source": [
    "# 在目标库上建表\n",
    "cursor_2.execute(\"\"\"create table if not exists my_data (\n",
    "  id BIGINT not null AUTO_INCREMENT PRIMARY KEY,\n",
    "  category VARCHAR(1000),\n",
    "  title VARCHAR(1000),\n",
    "  count INT,\n",
    "  link VARCHAR(1000)\n",
    ") CHARACTER SET 'utf8' COLLATE 'utf8_unicode_ci'\"\"\")"
   ]
  },
  {
   "cell_type": "code",
   "execution_count": 4,
   "metadata": {},
   "outputs": [],
   "source": [
    "# 边读取边插入数据\n",
    "cursor_1.execute(\"\"\"select category, title, count, link from my_data order by id \"\"\")\n",
    "for row in cursor_1:\n",
    "    # cursor_2.execute(\"\"\"INSERT INTO my_data (category, title, count, link) values (?, ?, ?, ?) \"\"\", row)\n",
    "    cursor_2.execute(\"\"\"INSERT INTO my_data (category, title, count, link) values (%s, %s, %s, %s) \"\"\", row)\n",
    "db_2.commit()"
   ]
  },
  {
   "cell_type": "code",
   "execution_count": 5,
   "metadata": {},
   "outputs": [],
   "source": [
    "# 关闭所有数据库和游标\n",
    "cursor_1.close()\n",
    "db_1.close()\n",
    "\n",
    "cursor_2.close()\n",
    "db_2.close()"
   ]
  }
 ],
 "metadata": {
  "kernelspec": {
   "display_name": "Python 3",
   "language": "python",
   "name": "python3"
  },
  "language_info": {
   "codemirror_mode": {
    "name": "ipython",
    "version": 3
   },
   "file_extension": ".py",
   "mimetype": "text/x-python",
   "name": "python",
   "nbconvert_exporter": "python",
   "pygments_lexer": "ipython3",
   "version": "3.6.4"
  }
 },
 "nbformat": 4,
 "nbformat_minor": 2
}
